{
  "nbformat": 4,
  "nbformat_minor": 0,
  "metadata": {
    "colab": {
      "name": "MTP_linear.ipynb",
      "version": "0.3.2",
      "provenance": [],
      "collapsed_sections": [],
      "include_colab_link": true
    },
    "kernelspec": {
      "name": "python3",
      "display_name": "Python 3"
    },
    "accelerator": "GPU"
  },
  "cells": [
    {
      "cell_type": "markdown",
      "metadata": {
        "id": "view-in-github",
        "colab_type": "text"
      },
      "source": [
        "<a href=\"https://colab.research.google.com/github/koshal123/M.Tech-Project/blob/master/MTP_linear.ipynb\" target=\"_parent\"><img src=\"https://colab.research.google.com/assets/colab-badge.svg\" alt=\"Open In Colab\"/></a>"
      ]
    },
    {
      "cell_type": "markdown",
      "metadata": {
        "id": "UWmAy0Vkti63",
        "colab_type": "text"
      },
      "source": [
        "#Importing Tensorflow framework"
      ]
    },
    {
      "cell_type": "code",
      "metadata": {
        "id": "kjp56ZwoZVu0",
        "colab_type": "code",
        "outputId": "1c063ee8-cc22-44e1-9a6f-abd2d7638082",
        "colab": {
          "base_uri": "https://localhost:8080/",
          "height": 50
        }
      },
      "source": [
        "%matplotlib inline\n",
        "\n",
        "from keras.models import Sequential\n",
        "from keras.layers import Dense, Activation, Dropout\n",
        " \n",
        "from keras.utils import np_utils\n",
        "from keras import backend as K\n",
        "\n",
        "from distutils.version import LooseVersion as LV\n",
        "from keras import __version__\n",
        "\n",
        "from IPython.display import SVG\n",
        "from keras.utils.vis_utils import model_to_dot\n",
        "\n",
        "from sklearn.model_selection import train_test_split\n",
        "\n",
        "print('Using Keras version:', __version__, 'backend:', K.backend())\n",
        "assert(LV(__version__) >= LV(\"2.0.0\"))"
      ],
      "execution_count": 1,
      "outputs": [
        {
          "output_type": "stream",
          "text": [
            "Using TensorFlow backend.\n"
          ],
          "name": "stderr"
        },
        {
          "output_type": "stream",
          "text": [
            "Using Keras version: 2.2.5 backend: tensorflow\n"
          ],
          "name": "stdout"
        }
      ]
    },
    {
      "cell_type": "code",
      "metadata": {
        "id": "u_K9h4vTthsZ",
        "colab_type": "code",
        "outputId": "cf96a26b-7289-46e5-8efa-c75a1eb3e080",
        "colab": {
          "base_uri": "https://localhost:8080/",
          "height": 33
        }
      },
      "source": [
        "if K.backend() == \"tensorflow\":\n",
        "    import tensorflow as tf\n",
        "    device_name = tf.test.gpu_device_name()\n",
        "    if device_name == '':\n",
        "        device_name = \"None\"\n",
        "    print('Using TensorFlow version:', tf.__version__, ', GPU:', device_name)"
      ],
      "execution_count": 2,
      "outputs": [
        {
          "output_type": "stream",
          "text": [
            "Using TensorFlow version: 1.14.0 , GPU: /device:GPU:0\n"
          ],
          "name": "stdout"
        }
      ]
    },
    {
      "cell_type": "code",
      "metadata": {
        "id": "ijZwR27itVm4",
        "colab_type": "code",
        "colab": {}
      },
      "source": [
        "import numpy as np\n",
        "np.set_printoptions(threshold=np.inf)\n",
        "import matplotlib.pyplot as plt\n",
        "import pandas as pd\n",
        "import seaborn as sns"
      ],
      "execution_count": 0,
      "outputs": []
    },
    {
      "cell_type": "code",
      "metadata": {
        "id": "meMSVyYaag2V",
        "colab_type": "code",
        "outputId": "445fe1bd-2bf3-474b-b08b-15b50c23ba67",
        "colab": {
          "resources": {
            "http://localhost:8080/nbextensions/google.colab/files.js": {
              "data": "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",
              "ok": true,
              "headers": [
                [
                  "content-type",
                  "application/javascript"
                ]
              ],
              "status": 200,
              "status_text": ""
            }
          },
          "base_uri": "https://localhost:8080/",
          "height": 74
        }
      },
      "source": [
        "from google.colab import files\n",
        "uploaded = files.upload()"
      ],
      "execution_count": 4,
      "outputs": [
        {
          "output_type": "display_data",
          "data": {
            "text/html": [
              "\n",
              "     <input type=\"file\" id=\"files-40ecc3a6-f373-448b-ad6c-30f0d8d877bc\" name=\"files[]\" multiple disabled />\n",
              "     <output id=\"result-40ecc3a6-f373-448b-ad6c-30f0d8d877bc\">\n",
              "      Upload widget is only available when the cell has been executed in the\n",
              "      current browser session. Please rerun this cell to enable.\n",
              "      </output>\n",
              "      <script src=\"/nbextensions/google.colab/files.js\"></script> "
            ],
            "text/plain": [
              "<IPython.core.display.HTML object>"
            ]
          },
          "metadata": {
            "tags": []
          }
        },
        {
          "output_type": "stream",
          "text": [
            "Saving final_WO_categ.csv to final_WO_categ.csv\n"
          ],
          "name": "stdout"
        }
      ]
    },
    {
      "cell_type": "code",
      "metadata": {
        "id": "AjCh1Yx3d3W9",
        "colab_type": "code",
        "colab": {}
      },
      "source": [
        "dataset=pd.read_csv('final_WO_categ.csv',header=0,encoding = 'unicode_escape')"
      ],
      "execution_count": 0,
      "outputs": []
    },
    {
      "cell_type": "markdown",
      "metadata": {
        "id": "vAO_pMC1X_tR",
        "colab_type": "text"
      },
      "source": [
        "**Y_new = y * 10^5**"
      ]
    },
    {
      "cell_type": "code",
      "metadata": {
        "id": "7eGM7uJjeCUC",
        "colab_type": "code",
        "outputId": "0a97b2c8-9f31-4ab5-e82f-73e8abb9448e",
        "colab": {
          "base_uri": "https://localhost:8080/",
          "height": 196
        }
      },
      "source": [
        "dataset.head()"
      ],
      "execution_count": 6,
      "outputs": [
        {
          "output_type": "execute_result",
          "data": {
            "text/html": [
              "<div>\n",
              "<style scoped>\n",
              "    .dataframe tbody tr th:only-of-type {\n",
              "        vertical-align: middle;\n",
              "    }\n",
              "\n",
              "    .dataframe tbody tr th {\n",
              "        vertical-align: top;\n",
              "    }\n",
              "\n",
              "    .dataframe thead th {\n",
              "        text-align: right;\n",
              "    }\n",
              "</style>\n",
              "<table border=\"1\" class=\"dataframe\">\n",
              "  <thead>\n",
              "    <tr style=\"text-align: right;\">\n",
              "      <th></th>\n",
              "      <th>x3</th>\n",
              "      <th>x4</th>\n",
              "      <th>x5</th>\n",
              "      <th>x6</th>\n",
              "      <th>y</th>\n",
              "      <th>Y_new</th>\n",
              "    </tr>\n",
              "  </thead>\n",
              "  <tbody>\n",
              "    <tr>\n",
              "      <th>0</th>\n",
              "      <td>0.527</td>\n",
              "      <td>125</td>\n",
              "      <td>15</td>\n",
              "      <td>18.9</td>\n",
              "      <td>0.000008</td>\n",
              "      <td>0.79</td>\n",
              "    </tr>\n",
              "    <tr>\n",
              "      <th>1</th>\n",
              "      <td>0.527</td>\n",
              "      <td>125</td>\n",
              "      <td>30</td>\n",
              "      <td>18.9</td>\n",
              "      <td>0.000014</td>\n",
              "      <td>1.38</td>\n",
              "    </tr>\n",
              "    <tr>\n",
              "      <th>2</th>\n",
              "      <td>0.527</td>\n",
              "      <td>125</td>\n",
              "      <td>45</td>\n",
              "      <td>18.9</td>\n",
              "      <td>0.000016</td>\n",
              "      <td>1.60</td>\n",
              "    </tr>\n",
              "    <tr>\n",
              "      <th>3</th>\n",
              "      <td>0.527</td>\n",
              "      <td>125</td>\n",
              "      <td>60</td>\n",
              "      <td>18.9</td>\n",
              "      <td>0.000017</td>\n",
              "      <td>1.71</td>\n",
              "    </tr>\n",
              "    <tr>\n",
              "      <th>4</th>\n",
              "      <td>0.527</td>\n",
              "      <td>125</td>\n",
              "      <td>90</td>\n",
              "      <td>18.9</td>\n",
              "      <td>0.000015</td>\n",
              "      <td>1.46</td>\n",
              "    </tr>\n",
              "  </tbody>\n",
              "</table>\n",
              "</div>"
            ],
            "text/plain": [
              "      x3   x4  x5    x6         y  Y_new\n",
              "0  0.527  125  15  18.9  0.000008   0.79\n",
              "1  0.527  125  30  18.9  0.000014   1.38\n",
              "2  0.527  125  45  18.9  0.000016   1.60\n",
              "3  0.527  125  60  18.9  0.000017   1.71\n",
              "4  0.527  125  90  18.9  0.000015   1.46"
            ]
          },
          "metadata": {
            "tags": []
          },
          "execution_count": 6
        }
      ]
    },
    {
      "cell_type": "code",
      "metadata": {
        "id": "OsbhvOqghEds",
        "colab_type": "code",
        "colab": {}
      },
      "source": [
        "d = dataset"
      ],
      "execution_count": 0,
      "outputs": []
    },
    {
      "cell_type": "code",
      "metadata": {
        "id": "rJbzvJMPgtKT",
        "colab_type": "code",
        "colab": {}
      },
      "source": [
        "#dependent and independent variables\n",
        "X=d.iloc[:, 0:4].values\n",
        "Y=d.iloc[:, 5].values"
      ],
      "execution_count": 0,
      "outputs": []
    },
    {
      "cell_type": "code",
      "metadata": {
        "id": "MF0DfAtqhJwR",
        "colab_type": "code",
        "outputId": "a5cd321e-0ee7-4a38-e9b5-9e994279413b",
        "colab": {
          "base_uri": "https://localhost:8080/",
          "height": 385
        }
      },
      "source": [
        "Y"
      ],
      "execution_count": 9,
      "outputs": [
        {
          "output_type": "execute_result",
          "data": {
            "text/plain": [
              "array([ 0.79  ,  1.38  ,  1.6   ,  1.71  ,  1.46  ,  0.921 ,  1.51  ,\n",
              "        1.68  ,  1.79  ,  1.46  ,  0.494 ,  0.773 ,  0.938 ,  0.921 ,\n",
              "        0.806 ,  0.51  ,  0.839 ,  0.954 ,  0.938 ,  0.806 , 19.233 ,\n",
              "       31.2268, 40.1606, 42.9904, 34.1389, 24.0042, 36.3765, 42.6284,\n",
              "       42.2171, 33.958 ,  0.469 ,  0.856 ,  1.12  ,  1.15  ,  1.1312,\n",
              "        0.582 ,  0.986 ,  1.08  ,  1.0504,  1.1312,  0.776 ,  1.41  ,\n",
              "        1.83  ,  2.04  ,  1.84  ,  0.921 ,  1.65  ,  1.8584,  1.9392,\n",
              "        1.84  , 18.891 , 36.1014, 48.0598, 54.2168, 50.7747, 25.0803,\n",
              "       40.9656, 47.4942, 47.8336, 50.5808,  0.0732,  0.176 ,  0.229 ,\n",
              "        0.1   ,  0.194 ,  0.225 ,  1.1   ,  6.4   , 15.8   , 24.3   ,\n",
              "       20.3   , 18.9   ,  0.8   ,  5.8   , 13.7   , 19.9   , 19.2   ,\n",
              "       16.5   ,  0.7   ,  5.3   ,  8.8   , 17.7   , 15.9   , 13.9   ,\n",
              "        7.    , 19.2   , 46.8   , 63.6   , 56.9   , 49.7   ,  3.4   ,\n",
              "       17.8   , 42.    , 52.8   , 49.7   , 44.6   ,  1.9   ,  9.8   ,\n",
              "       20.9   , 31.7   , 37.7   , 45.1   ,  1.64  ,  7.46  , 13.6585,\n",
              "       23.9657, 19.3496, 13.0894,  1.39  ,  5.63  , 11.9512, 22.1951,\n",
              "       13.9115, 11.1292,  1.07  ,  3.67  ,  9.55  , 17.2629, 11.0659,\n",
              "        9.3   ,  0.81  ,  5.67  , 14.9767, 25.5819, 20.2388, 17.6483,\n",
              "        2.75  ,  7.61  , 22.3437, 27.6867, 25.42  , 22.2627,  4.21  ,\n",
              "       10.6051, 24.6104, 29.7916, 28.4963, 26.0676,  3.26  ,  2.31  ,\n",
              "        1.77  ,  1.48  ,  1.28  ,  0.78  , 12.72  ,  9.9   ,  7.44  ,\n",
              "        5.18  ])"
            ]
          },
          "metadata": {
            "tags": []
          },
          "execution_count": 9
        }
      ]
    },
    {
      "cell_type": "code",
      "metadata": {
        "id": "8dMq-CyU4Nwb",
        "colab_type": "code",
        "outputId": "f49456ef-6d05-4a32-9939-285a545a78f0",
        "colab": {
          "base_uri": "https://localhost:8080/",
          "height": 33
        }
      },
      "source": [
        "Y.shape"
      ],
      "execution_count": 16,
      "outputs": [
        {
          "output_type": "execute_result",
          "data": {
            "text/plain": [
              "(148,)"
            ]
          },
          "metadata": {
            "tags": []
          },
          "execution_count": 16
        }
      ]
    },
    {
      "cell_type": "code",
      "metadata": {
        "id": "qoIBaDHTKcKc",
        "colab_type": "code",
        "outputId": "b369a91d-c5ce-415d-bbcc-095dd1c37b95",
        "colab": {
          "base_uri": "https://localhost:8080/",
          "height": 1000
        }
      },
      "source": [
        "X"
      ],
      "execution_count": 17,
      "outputs": [
        {
          "output_type": "execute_result",
          "data": {
            "text/plain": [
              "array([[  0.527, 125.   ,  15.   ,  18.9  ],\n",
              "       [  0.527, 125.   ,  30.   ,  18.9  ],\n",
              "       [  0.527, 125.   ,  45.   ,  18.9  ],\n",
              "       [  0.527, 125.   ,  60.   ,  18.9  ],\n",
              "       [  0.527, 125.   ,  90.   ,  18.9  ],\n",
              "       [  0.527, 125.   ,  15.   ,  18.9  ],\n",
              "       [  0.527, 125.   ,  30.   ,  18.9  ],\n",
              "       [  0.527, 125.   ,  45.   ,  18.9  ],\n",
              "       [  0.527, 125.   ,  60.   ,  18.9  ],\n",
              "       [  0.527, 125.   ,  90.   ,  18.9  ],\n",
              "       [  0.527, 125.   ,  15.   ,  34.6  ],\n",
              "       [  0.527, 125.   ,  30.   ,  34.6  ],\n",
              "       [  0.527, 125.   ,  45.   ,  34.6  ],\n",
              "       [  0.527, 125.   ,  60.   ,  34.6  ],\n",
              "       [  0.527, 125.   ,  90.   ,  34.6  ],\n",
              "       [  0.527, 125.   ,  15.   ,  34.6  ],\n",
              "       [  0.527, 125.   ,  30.   ,  34.6  ],\n",
              "       [  0.527, 125.   ,  45.   ,  34.6  ],\n",
              "       [  0.527, 125.   ,  60.   ,  34.6  ],\n",
              "       [  0.527, 125.   ,  90.   ,  34.6  ],\n",
              "       [  0.527, 125.   ,  15.   ,  55.7  ],\n",
              "       [  0.527, 125.   ,  30.   ,  55.7  ],\n",
              "       [  0.527, 125.   ,  45.   ,  55.7  ],\n",
              "       [  0.527, 125.   ,  60.   ,  55.7  ],\n",
              "       [  0.527, 125.   ,  90.   ,  55.7  ],\n",
              "       [  0.527, 125.   ,  15.   ,  55.7  ],\n",
              "       [  0.527, 125.   ,  30.   ,  55.7  ],\n",
              "       [  0.527, 125.   ,  45.   ,  55.7  ],\n",
              "       [  0.527, 125.   ,  60.   ,  55.7  ],\n",
              "       [  0.527, 125.   ,  90.   ,  55.7  ],\n",
              "       [  0.488, 125.   ,  15.   ,  34.6  ],\n",
              "       [  0.488, 125.   ,  30.   ,  34.6  ],\n",
              "       [  0.488, 125.   ,  45.   ,  34.6  ],\n",
              "       [  0.488, 125.   ,  60.   ,  34.6  ],\n",
              "       [  0.488, 125.   ,  90.   ,  34.6  ],\n",
              "       [  0.488, 125.   ,  15.   ,  34.6  ],\n",
              "       [  0.488, 125.   ,  30.   ,  34.6  ],\n",
              "       [  0.488, 125.   ,  45.   ,  34.6  ],\n",
              "       [  0.488, 125.   ,  60.   ,  34.6  ],\n",
              "       [  0.488, 125.   ,  90.   ,  34.6  ],\n",
              "       [  0.488, 125.   ,  15.   ,  18.9  ],\n",
              "       [  0.488, 125.   ,  30.   ,  18.9  ],\n",
              "       [  0.488, 125.   ,  45.   ,  18.9  ],\n",
              "       [  0.488, 125.   ,  60.   ,  18.9  ],\n",
              "       [  0.488, 125.   ,  90.   ,  18.9  ],\n",
              "       [  0.488, 125.   ,  15.   ,  18.9  ],\n",
              "       [  0.488, 125.   ,  30.   ,  18.9  ],\n",
              "       [  0.488, 125.   ,  45.   ,  18.9  ],\n",
              "       [  0.488, 125.   ,  60.   ,  18.9  ],\n",
              "       [  0.488, 125.   ,  90.   ,  18.9  ],\n",
              "       [  0.488, 125.   ,  15.   ,  55.7  ],\n",
              "       [  0.488, 125.   ,  30.   ,  55.7  ],\n",
              "       [  0.488, 125.   ,  45.   ,  55.7  ],\n",
              "       [  0.488, 125.   ,  60.   ,  55.7  ],\n",
              "       [  0.488, 125.   ,  90.   ,  55.7  ],\n",
              "       [  0.488, 125.   ,  15.   ,  55.7  ],\n",
              "       [  0.488, 125.   ,  30.   ,  55.7  ],\n",
              "       [  0.488, 125.   ,  45.   ,  55.7  ],\n",
              "       [  0.488, 125.   ,  60.   ,  55.7  ],\n",
              "       [  0.488, 125.   ,  90.   ,  55.7  ],\n",
              "       [  0.68 ,  90.   ,  30.   ,  70.   ],\n",
              "       [  0.68 ,  90.   ,  60.   ,  70.   ],\n",
              "       [  0.68 ,  90.   ,  90.   ,  70.   ],\n",
              "       [  0.68 ,  90.   ,  30.   ,  70.   ],\n",
              "       [  0.68 ,  90.   ,  60.   ,  70.   ],\n",
              "       [  0.68 ,  90.   ,  90.   ,  70.   ],\n",
              "       [  0.65 , 400.   ,  15.   ,  45.   ],\n",
              "       [  0.65 , 400.   ,  30.   ,  45.   ],\n",
              "       [  0.65 , 400.   ,  45.   ,  45.   ],\n",
              "       [  0.65 , 400.   ,  60.   ,  45.   ],\n",
              "       [  0.65 , 400.   ,  75.   ,  45.   ],\n",
              "       [  0.65 , 400.   ,  90.   ,  45.   ],\n",
              "       [  0.65 , 400.   ,  15.   ,  45.   ],\n",
              "       [  0.65 , 400.   ,  30.   ,  45.   ],\n",
              "       [  0.65 , 400.   ,  45.   ,  45.   ],\n",
              "       [  0.65 , 400.   ,  60.   ,  45.   ],\n",
              "       [  0.65 , 400.   ,  75.   ,  45.   ],\n",
              "       [  0.65 , 400.   ,  90.   ,  45.   ],\n",
              "       [  0.65 , 400.   ,  15.   ,  45.   ],\n",
              "       [  0.65 , 400.   ,  30.   ,  45.   ],\n",
              "       [  0.65 , 400.   ,  45.   ,  45.   ],\n",
              "       [  0.65 , 400.   ,  60.   ,  45.   ],\n",
              "       [  0.65 , 400.   ,  75.   ,  45.   ],\n",
              "       [  0.65 , 400.   ,  90.   ,  45.   ],\n",
              "       [  0.65 , 400.   ,  15.   ,  85.   ],\n",
              "       [  0.65 , 400.   ,  30.   ,  85.   ],\n",
              "       [  0.65 , 400.   ,  45.   ,  85.   ],\n",
              "       [  0.65 , 400.   ,  60.   ,  85.   ],\n",
              "       [  0.65 , 400.   ,  75.   ,  85.   ],\n",
              "       [  0.65 , 400.   ,  90.   ,  85.   ],\n",
              "       [  0.65 , 400.   ,  15.   ,  85.   ],\n",
              "       [  0.65 , 400.   ,  30.   ,  85.   ],\n",
              "       [  0.65 , 400.   ,  45.   ,  85.   ],\n",
              "       [  0.65 , 400.   ,  60.   ,  85.   ],\n",
              "       [  0.65 , 400.   ,  75.   ,  85.   ],\n",
              "       [  0.65 , 400.   ,  90.   ,  85.   ],\n",
              "       [  0.65 , 400.   ,  15.   ,  85.   ],\n",
              "       [  0.65 , 400.   ,  30.   ,  85.   ],\n",
              "       [  0.65 , 400.   ,  45.   ,  85.   ],\n",
              "       [  0.65 , 400.   ,  60.   ,  85.   ],\n",
              "       [  0.65 , 400.   ,  75.   ,  85.   ],\n",
              "       [  0.65 , 400.   ,  90.   ,  85.   ],\n",
              "       [  0.56 , 400.   ,  15.   ,  45.   ],\n",
              "       [  0.56 , 400.   ,  30.   ,  45.   ],\n",
              "       [  0.56 , 400.   ,  45.   ,  45.   ],\n",
              "       [  0.56 , 400.   ,  60.   ,  45.   ],\n",
              "       [  0.56 , 400.   ,  75.   ,  45.   ],\n",
              "       [  0.56 , 400.   ,  90.   ,  45.   ],\n",
              "       [  0.56 , 400.   ,  15.   ,  45.   ],\n",
              "       [  0.56 , 400.   ,  30.   ,  45.   ],\n",
              "       [  0.56 , 400.   ,  45.   ,  45.   ],\n",
              "       [  0.56 , 400.   ,  60.   ,  45.   ],\n",
              "       [  0.56 , 400.   ,  75.   ,  45.   ],\n",
              "       [  0.56 , 400.   ,  90.   ,  45.   ],\n",
              "       [  0.56 , 400.   ,  15.   ,  45.   ],\n",
              "       [  0.56 , 400.   ,  30.   ,  45.   ],\n",
              "       [  0.56 , 400.   ,  45.   ,  45.   ],\n",
              "       [  0.56 , 400.   ,  60.   ,  45.   ],\n",
              "       [  0.56 , 400.   ,  75.   ,  45.   ],\n",
              "       [  0.56 , 400.   ,  90.   ,  45.   ],\n",
              "       [  0.56 , 400.   ,  15.   ,  45.   ],\n",
              "       [  0.56 , 400.   ,  30.   ,  45.   ],\n",
              "       [  0.56 , 400.   ,  45.   ,  45.   ],\n",
              "       [  0.56 , 400.   ,  60.   ,  45.   ],\n",
              "       [  0.56 , 400.   ,  75.   ,  45.   ],\n",
              "       [  0.56 , 400.   ,  90.   ,  45.   ],\n",
              "       [  0.56 , 400.   ,  15.   ,  45.   ],\n",
              "       [  0.56 , 400.   ,  30.   ,  45.   ],\n",
              "       [  0.56 , 400.   ,  45.   ,  45.   ],\n",
              "       [  0.56 , 400.   ,  60.   ,  45.   ],\n",
              "       [  0.56 , 400.   ,  75.   ,  45.   ],\n",
              "       [  0.56 , 400.   ,  90.   ,  45.   ],\n",
              "       [  0.56 , 400.   ,  15.   ,  45.   ],\n",
              "       [  0.56 , 400.   ,  30.   ,  45.   ],\n",
              "       [  0.56 , 400.   ,  45.   ,  45.   ],\n",
              "       [  0.56 , 400.   ,  60.   ,  45.   ],\n",
              "       [  0.56 , 400.   ,  75.   ,  45.   ],\n",
              "       [  0.56 , 400.   ,  90.   ,  45.   ],\n",
              "       [  0.   , 113.   ,  15.   ,  26.88 ],\n",
              "       [  0.   , 113.   ,  30.   ,  26.88 ],\n",
              "       [  0.   , 113.   ,  45.   ,  26.88 ],\n",
              "       [  0.   , 113.   ,  60.   ,  26.88 ],\n",
              "       [  0.   , 113.   ,  75.   ,  26.88 ],\n",
              "       [  0.   , 113.   ,  90.   ,  26.88 ],\n",
              "       [  0.4  , 113.   ,  30.   ,  26.88 ],\n",
              "       [  0.4  , 113.   ,  45.   ,  26.88 ],\n",
              "       [  0.4  , 113.   ,  60.   ,  26.88 ],\n",
              "       [  0.4  , 113.   ,  90.   ,  26.88 ]])"
            ]
          },
          "metadata": {
            "tags": []
          },
          "execution_count": 17
        }
      ]
    },
    {
      "cell_type": "code",
      "metadata": {
        "id": "FpEVgKLuwKjb",
        "colab_type": "code",
        "colab": {}
      },
      "source": [
        "#Cross validation by test and training data set\n",
        "from sklearn.model_selection import train_test_split\n",
        "X_train , X_test, Y_train , Y_test  = train_test_split(X,Y, test_size=0.1, random_state=0)"
      ],
      "execution_count": 0,
      "outputs": []
    },
    {
      "cell_type": "markdown",
      "metadata": {
        "id": "HrpHsz1yTT7m",
        "colab_type": "text"
      },
      "source": [
        "**We are scaling only the independend variables, it is not important to scale dependent variable too**"
      ]
    },
    {
      "cell_type": "code",
      "metadata": {
        "id": "cSDErAP6rlP0",
        "colab_type": "code",
        "colab": {}
      },
      "source": [
        "#Feature scaling\n",
        "from sklearn.preprocessing import StandardScaler\n",
        "sc  =StandardScaler()\n",
        "X_train = sc.fit_transform(X_train)\n",
        "X_test = sc.transform(X_test)"
      ],
      "execution_count": 0,
      "outputs": []
    },
    {
      "cell_type": "code",
      "metadata": {
        "id": "oaffAIssPije",
        "colab_type": "code",
        "outputId": "9f01ad0c-79f8-458c-b523-3a03c48e9a49",
        "colab": {
          "base_uri": "https://localhost:8080/",
          "height": 33
        }
      },
      "source": [
        "X_train.shape"
      ],
      "execution_count": 48,
      "outputs": [
        {
          "output_type": "execute_result",
          "data": {
            "text/plain": [
              "(133, 4)"
            ]
          },
          "metadata": {
            "tags": []
          },
          "execution_count": 48
        }
      ]
    },
    {
      "cell_type": "code",
      "metadata": {
        "id": "QDAXSD94gQO7",
        "colab_type": "code",
        "outputId": "75a00de3-a543-47a3-e29b-e81b14d03163",
        "colab": {
          "base_uri": "https://localhost:8080/",
          "height": 33
        }
      },
      "source": [
        "Y_train.shape"
      ],
      "execution_count": 49,
      "outputs": [
        {
          "output_type": "execute_result",
          "data": {
            "text/plain": [
              "(133,)"
            ]
          },
          "metadata": {
            "tags": []
          },
          "execution_count": 49
        }
      ]
    },
    {
      "cell_type": "code",
      "metadata": {
        "id": "FBPvLDqpbWly",
        "colab_type": "code",
        "outputId": "e2a69eca-3fb5-4a2a-93f0-61f57e5bb707",
        "colab": {
          "base_uri": "https://localhost:8080/",
          "height": 33
        }
      },
      "source": [
        "X_test.shape"
      ],
      "execution_count": 50,
      "outputs": [
        {
          "output_type": "execute_result",
          "data": {
            "text/plain": [
              "(15, 4)"
            ]
          },
          "metadata": {
            "tags": []
          },
          "execution_count": 50
        }
      ]
    },
    {
      "cell_type": "code",
      "metadata": {
        "id": "DaIH6iAwbahQ",
        "colab_type": "code",
        "outputId": "c8dedfe0-2675-4719-ee20-862d86eeda78",
        "colab": {
          "base_uri": "https://localhost:8080/",
          "height": 33
        }
      },
      "source": [
        "Y_test.shape"
      ],
      "execution_count": 51,
      "outputs": [
        {
          "output_type": "execute_result",
          "data": {
            "text/plain": [
              "(15,)"
            ]
          },
          "metadata": {
            "tags": []
          },
          "execution_count": 51
        }
      ]
    },
    {
      "cell_type": "markdown",
      "metadata": {
        "id": "R7PUgcCywVZz",
        "colab_type": "text"
      },
      "source": [
        "#Start to make artificial neural network"
      ]
    },
    {
      "cell_type": "code",
      "metadata": {
        "id": "6y0nZcnnv_Si",
        "colab_type": "code",
        "colab": {}
      },
      "source": [
        "#Initializing the ANN\n",
        "model=Sequential()"
      ],
      "execution_count": 0,
      "outputs": []
    },
    {
      "cell_type": "code",
      "metadata": {
        "id": "xGXPSK09whYc",
        "colab_type": "code",
        "colab": {}
      },
      "source": [
        "#Adding input layer and first hidden layer\n",
        "#input neuron=4 , hidden neuron=9\n",
        "model.add(Dense(16,input_dim=4,activation='relu'))"
      ],
      "execution_count": 0,
      "outputs": []
    },
    {
      "cell_type": "code",
      "metadata": {
        "id": "SEXGOduuXUyg",
        "colab_type": "code",
        "colab": {}
      },
      "source": [
        "#second hidden layer\n",
        "model.add(Dense(14,activation='relu'))"
      ],
      "execution_count": 0,
      "outputs": []
    },
    {
      "cell_type": "code",
      "metadata": {
        "id": "KNbLKacF4Afu",
        "colab_type": "code",
        "colab": {}
      },
      "source": [
        "#third hidden layer\n",
        " model.add(Dense(12,activation='relu'))"
      ],
      "execution_count": 0,
      "outputs": []
    },
    {
      "cell_type": "code",
      "metadata": {
        "id": "7A1XHW3Hxj3F",
        "colab_type": "code",
        "colab": {}
      },
      "source": [
        "#Adding the output layer\n",
        "model.add(Dense(1, activation=\"linear\"))"
      ],
      "execution_count": 0,
      "outputs": []
    },
    {
      "cell_type": "code",
      "metadata": {
        "id": "4hAegGasYAeC",
        "colab_type": "code",
        "outputId": "2320d4a8-9103-440f-d886-7348a33195fd",
        "colab": {
          "base_uri": "https://localhost:8080/",
          "height": 284
        }
      },
      "source": [
        "model.summary()"
      ],
      "execution_count": 57,
      "outputs": [
        {
          "output_type": "stream",
          "text": [
            "Model: \"sequential_2\"\n",
            "_________________________________________________________________\n",
            "Layer (type)                 Output Shape              Param #   \n",
            "=================================================================\n",
            "dense_5 (Dense)              (None, 16)                80        \n",
            "_________________________________________________________________\n",
            "dense_6 (Dense)              (None, 14)                238       \n",
            "_________________________________________________________________\n",
            "dense_7 (Dense)              (None, 12)                180       \n",
            "_________________________________________________________________\n",
            "dense_8 (Dense)              (None, 1)                 13        \n",
            "=================================================================\n",
            "Total params: 511\n",
            "Trainable params: 511\n",
            "Non-trainable params: 0\n",
            "_________________________________________________________________\n"
          ],
          "name": "stdout"
        }
      ]
    },
    {
      "cell_type": "code",
      "metadata": {
        "id": "NiItQOEsxsJ3",
        "colab_type": "code",
        "colab": {}
      },
      "source": [
        "#compile the ANN\n",
        "model.compile(loss='mse', optimizer='adam', metrics=['mse'])"
      ],
      "execution_count": 0,
      "outputs": []
    },
    {
      "cell_type": "code",
      "metadata": {
        "id": "QwTMXJudxuGn",
        "colab_type": "code",
        "colab": {}
      },
      "source": [
        "#Fitting the ANN in training set\n",
        "#estimator=model.fit(X_train,Y_train,validation_split=0.1 , batch_size=4, epochs=400, verbose=1 )  #with validation_split\n",
        "estimator=model.fit(X_train,Y_train , batch_size=5, epochs=450, verbose=0 ) #Without validation_split"
      ],
      "execution_count": 0,
      "outputs": []
    },
    {
      "cell_type": "markdown",
      "metadata": {
        "id": "FbQIq6perDkZ",
        "colab_type": "text"
      },
      "source": [
        "#plot of training loss and validation loss"
      ]
    },
    {
      "cell_type": "code",
      "metadata": {
        "id": "f2Nv1gJOc7qV",
        "colab_type": "code",
        "outputId": "a796d0fb-14c7-41ce-d109-50be5719cd9e",
        "colab": {
          "base_uri": "https://localhost:8080/",
          "height": 497
        }
      },
      "source": [
        "plt.figure(figsize=(6, 4))\n",
        "print(estimator.history.keys())\n",
        "# \"Loss\"\n",
        "plt.plot(estimator.history['loss'])\n",
        "plt.plot(estimator.history['val_loss'])\n",
        "plt.title('model loss')\n",
        "plt.ylabel('loss')\n",
        "plt.xlabel('epoch')\n",
        "plt.legend(['train', 'validation'], loc='upper left')\n",
        "plt.show()"
      ],
      "execution_count": 60,
      "outputs": [
        {
          "output_type": "stream",
          "text": [
            "dict_keys(['loss', 'mean_squared_error'])\n"
          ],
          "name": "stdout"
        },
        {
          "output_type": "error",
          "ename": "KeyError",
          "evalue": "ignored",
          "traceback": [
            "\u001b[0;31m---------------------------------------------------------------------------\u001b[0m",
            "\u001b[0;31mKeyError\u001b[0m                                  Traceback (most recent call last)",
            "\u001b[0;32m<ipython-input-60-f40ad9693237>\u001b[0m in \u001b[0;36m<module>\u001b[0;34m()\u001b[0m\n\u001b[1;32m      3\u001b[0m \u001b[0;31m# \"Loss\"\u001b[0m\u001b[0;34m\u001b[0m\u001b[0;34m\u001b[0m\u001b[0;34m\u001b[0m\u001b[0m\n\u001b[1;32m      4\u001b[0m \u001b[0mplt\u001b[0m\u001b[0;34m.\u001b[0m\u001b[0mplot\u001b[0m\u001b[0;34m(\u001b[0m\u001b[0mestimator\u001b[0m\u001b[0;34m.\u001b[0m\u001b[0mhistory\u001b[0m\u001b[0;34m[\u001b[0m\u001b[0;34m'loss'\u001b[0m\u001b[0;34m]\u001b[0m\u001b[0;34m)\u001b[0m\u001b[0;34m\u001b[0m\u001b[0;34m\u001b[0m\u001b[0m\n\u001b[0;32m----> 5\u001b[0;31m \u001b[0mplt\u001b[0m\u001b[0;34m.\u001b[0m\u001b[0mplot\u001b[0m\u001b[0;34m(\u001b[0m\u001b[0mestimator\u001b[0m\u001b[0;34m.\u001b[0m\u001b[0mhistory\u001b[0m\u001b[0;34m[\u001b[0m\u001b[0;34m'val_loss'\u001b[0m\u001b[0;34m]\u001b[0m\u001b[0;34m)\u001b[0m\u001b[0;34m\u001b[0m\u001b[0;34m\u001b[0m\u001b[0m\n\u001b[0m\u001b[1;32m      6\u001b[0m \u001b[0mplt\u001b[0m\u001b[0;34m.\u001b[0m\u001b[0mtitle\u001b[0m\u001b[0;34m(\u001b[0m\u001b[0;34m'model loss'\u001b[0m\u001b[0;34m)\u001b[0m\u001b[0;34m\u001b[0m\u001b[0;34m\u001b[0m\u001b[0m\n\u001b[1;32m      7\u001b[0m \u001b[0mplt\u001b[0m\u001b[0;34m.\u001b[0m\u001b[0mylabel\u001b[0m\u001b[0;34m(\u001b[0m\u001b[0;34m'loss'\u001b[0m\u001b[0;34m)\u001b[0m\u001b[0;34m\u001b[0m\u001b[0;34m\u001b[0m\u001b[0m\n",
            "\u001b[0;31mKeyError\u001b[0m: 'val_loss'"
          ]
        },
        {
          "output_type": "display_data",
          "data": {
            "image/png": "[encoded data removed]",
            "text/plain": [
              "<Figure size 432x288 with 1 Axes>"
            ]
          },
          "metadata": {
            "tags": []
          }
        }
      ]
    },
    {
      "cell_type": "markdown",
      "metadata": {
        "id": "FTheJOkXnMHM",
        "colab_type": "text"
      },
      "source": [
        "#Using testing data for prediction"
      ]
    },
    {
      "cell_type": "code",
      "metadata": {
        "id": "GzYH7O2teFB8",
        "colab_type": "code",
        "outputId": "cf2d8fb7-f20b-4fb7-b2e6-6c142ed70639",
        "colab": {
          "base_uri": "https://localhost:8080/",
          "height": 268
        }
      },
      "source": [
        "y_pred = model.predict(X_test)\n",
        "print(y_pred)"
      ],
      "execution_count": 61,
      "outputs": [
        {
          "output_type": "stream",
          "text": [
            "[[34.619995 ]\n",
            " [ 2.0965655]\n",
            " [ 3.979768 ]\n",
            " [ 1.9344852]\n",
            " [43.140343 ]\n",
            " [32.65074  ]\n",
            " [ 3.162466 ]\n",
            " [49.794506 ]\n",
            " [ 1.9344852]\n",
            " [15.727104 ]\n",
            " [18.91744  ]\n",
            " [43.140343 ]\n",
            " [15.727104 ]\n",
            " [18.981504 ]\n",
            " [52.984547 ]]\n"
          ],
          "name": "stdout"
        }
      ]
    },
    {
      "cell_type": "markdown",
      "metadata": {
        "id": "YQZdmlManYLw",
        "colab_type": "text"
      },
      "source": [
        "#Experimental Value"
      ]
    },
    {
      "cell_type": "code",
      "metadata": {
        "id": "z1cOopUzgP7_",
        "colab_type": "code",
        "outputId": "f8a5ad70-95ca-4494-cd29-8e4b9e0f6023",
        "colab": {
          "base_uri": "https://localhost:8080/",
          "height": 50
        }
      },
      "source": [
        "print(Y_test)"
      ],
      "execution_count": 62,
      "outputs": [
        {
          "output_type": "stream",
          "text": [
            "[34.1389  1.68    1.08    1.07   42.6284 36.3765  2.04   50.7747  4.21\n",
            " 18.9    19.2    40.1606 13.9    25.42   37.7   ]\n"
          ],
          "name": "stdout"
        }
      ]
    },
    {
      "cell_type": "code",
      "metadata": {
        "id": "E_tHX46bgUp-",
        "colab_type": "code",
        "colab": {}
      },
      "source": [
        "#Scatter plot of y_pred vs Y-test\n",
        "# plt.scatter(y_pred, Y_test)\n",
        "# plt.show()"
      ],
      "execution_count": 0,
      "outputs": []
    },
    {
      "cell_type": "markdown",
      "metadata": {
        "id": "_4lpC4e8maJt",
        "colab_type": "text"
      },
      "source": [
        "#Plot of experimental vs predicted value"
      ]
    },
    {
      "cell_type": "code",
      "metadata": {
        "id": "-ruDoZtajqmt",
        "colab_type": "code",
        "outputId": "d1d6a189-24cb-45d0-e60e-aa8ce1e32fbf",
        "colab": {
          "base_uri": "https://localhost:8080/",
          "height": 404
        }
      },
      "source": [
        "plt.figure(figsize=(8, 6))\n",
        "plt.plot(y_pred, color='black',linewidth = 2, marker='o', markerfacecolor='blue', markersize=10, label='predicted value')\n",
        "plt.plot(Y_test, color='red',linewidth = 2, marker='o', markerfacecolor='green', markersize=10, label='experimental value')\n",
        "plt.xlabel('experimental and predicted value')\n",
        "plt.ylabel('erosion rate')\n",
        "plt.title('experimental VS ANN predicted value')\n",
        "plt.legend()\n",
        "plt.show()"
      ],
      "execution_count": 64,
      "outputs": [
        {
          "output_type": "display_data",
          "data": {
            "image/png": "[encoded data removed]",
            "text/plain": [
              "<Figure size 576x432 with 1 Axes>"
            ]
          },
          "metadata": {
            "tags": []
          }
        }
      ]
    },
    {
      "cell_type": "markdown",
      "metadata": {
        "id": "DjiPwbyAUkNs",
        "colab_type": "text"
      },
      "source": [
        "**Using External to Predict the output**"
      ]
    },
    {
      "cell_type": "code",
      "metadata": {
        "id": "qarK0zSw7ooT",
        "colab_type": "code",
        "outputId": "9651fae5-2030-4a2f-fafb-c6db16c6691f",
        "colab": {
          "resources": {
            "http://localhost:8080/nbextensions/google.colab/files.js": {
              "data": "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",
              "ok": true,
              "headers": [
                [
                  "content-type",
                  "application/javascript"
                ]
              ],
              "status": 200,
              "status_text": ""
            }
          },
          "base_uri": "https://localhost:8080/",
          "height": 74
        }
      },
      "source": [
        "from google.colab import files\n",
        "uploaded = files.upload()"
      ],
      "execution_count": 66,
      "outputs": [
        {
          "output_type": "display_data",
          "data": {
            "text/html": [
              "\n",
              "     <input type=\"file\" id=\"files-dce5bbdb-68e2-41b1-8726-da430082ee2f\" name=\"files[]\" multiple disabled />\n",
              "     <output id=\"result-dce5bbdb-68e2-41b1-8726-da430082ee2f\">\n",
              "      Upload widget is only available when the cell has been executed in the\n",
              "      current browser session. Please rerun this cell to enable.\n",
              "      </output>\n",
              "      <script src=\"/nbextensions/google.colab/files.js\"></script> "
            ],
            "text/plain": [
              "<IPython.core.display.HTML object>"
            ]
          },
          "metadata": {
            "tags": []
          }
        },
        {
          "output_type": "stream",
          "text": [
            "Saving Test data.csv to Test data (1).csv\n"
          ],
          "name": "stdout"
        }
      ]
    },
    {
      "cell_type": "code",
      "metadata": {
        "id": "JoOwre-iAEAO",
        "colab_type": "code",
        "colab": {}
      },
      "source": [
        "dataset_1=pd.read_csv('Test data.csv',header=0,encoding = 'unicode_escape')"
      ],
      "execution_count": 0,
      "outputs": []
    },
    {
      "cell_type": "code",
      "metadata": {
        "id": "yg5SQohABG_K",
        "colab_type": "code",
        "outputId": "a06040f3-0fdb-40af-f149-69aaa9abd399",
        "colab": {
          "base_uri": "https://localhost:8080/",
          "height": 375
        }
      },
      "source": [
        "dataset_1"
      ],
      "execution_count": 68,
      "outputs": [
        {
          "output_type": "execute_result",
          "data": {
            "text/html": [
              "<div>\n",
              "<style scoped>\n",
              "    .dataframe tbody tr th:only-of-type {\n",
              "        vertical-align: middle;\n",
              "    }\n",
              "\n",
              "    .dataframe tbody tr th {\n",
              "        vertical-align: top;\n",
              "    }\n",
              "\n",
              "    .dataframe thead th {\n",
              "        text-align: right;\n",
              "    }\n",
              "</style>\n",
              "<table border=\"1\" class=\"dataframe\">\n",
              "  <thead>\n",
              "    <tr style=\"text-align: right;\">\n",
              "      <th></th>\n",
              "      <th>matrix</th>\n",
              "      <th>fiber</th>\n",
              "      <th>volume fraction</th>\n",
              "      <th>particle size</th>\n",
              "      <th>impact angle</th>\n",
              "      <th>Velocity</th>\n",
              "      <th>erosion</th>\n",
              "      <th>erosion*10^5</th>\n",
              "      <th>predicted_ANN</th>\n",
              "      <th>Unnamed: 9</th>\n",
              "      <th>Unnamed: 10</th>\n",
              "      <th>error</th>\n",
              "    </tr>\n",
              "  </thead>\n",
              "  <tbody>\n",
              "    <tr>\n",
              "      <th>0</th>\n",
              "      <td>Epoxy</td>\n",
              "      <td>Glass fiber</td>\n",
              "      <td>0.6</td>\n",
              "      <td>75.0</td>\n",
              "      <td>30.0</td>\n",
              "      <td>100.0</td>\n",
              "      <td>0.000357</td>\n",
              "      <td>35.714286</td>\n",
              "      <td>20.166053</td>\n",
              "      <td>NaN</td>\n",
              "      <td>NaN</td>\n",
              "      <td>0.435351</td>\n",
              "    </tr>\n",
              "    <tr>\n",
              "      <th>1</th>\n",
              "      <td>Epoxy</td>\n",
              "      <td>Glass fiber</td>\n",
              "      <td>0.6</td>\n",
              "      <td>75.0</td>\n",
              "      <td>60.0</td>\n",
              "      <td>100.0</td>\n",
              "      <td>0.000571</td>\n",
              "      <td>57.142857</td>\n",
              "      <td>23.842970</td>\n",
              "      <td>NaN</td>\n",
              "      <td>NaN</td>\n",
              "      <td>0.582748</td>\n",
              "    </tr>\n",
              "    <tr>\n",
              "      <th>2</th>\n",
              "      <td>Epoxy</td>\n",
              "      <td>Glass fiber</td>\n",
              "      <td>0.6</td>\n",
              "      <td>75.0</td>\n",
              "      <td>90.0</td>\n",
              "      <td>100.0</td>\n",
              "      <td>0.000357</td>\n",
              "      <td>35.714286</td>\n",
              "      <td>29.607248</td>\n",
              "      <td>NaN</td>\n",
              "      <td>NaN</td>\n",
              "      <td>0.170997</td>\n",
              "    </tr>\n",
              "    <tr>\n",
              "      <th>3</th>\n",
              "      <td>Epoxy</td>\n",
              "      <td>Glass fiber</td>\n",
              "      <td>0.6</td>\n",
              "      <td>75.0</td>\n",
              "      <td>60.0</td>\n",
              "      <td>75.0</td>\n",
              "      <td>0.000264</td>\n",
              "      <td>26.428571</td>\n",
              "      <td>23.826118</td>\n",
              "      <td>NaN</td>\n",
              "      <td>NaN</td>\n",
              "      <td>0.098471</td>\n",
              "    </tr>\n",
              "    <tr>\n",
              "      <th>4</th>\n",
              "      <td>Epoxy</td>\n",
              "      <td>Glass fiber</td>\n",
              "      <td>0.6</td>\n",
              "      <td>75.0</td>\n",
              "      <td>60.0</td>\n",
              "      <td>50.0</td>\n",
              "      <td>0.000057</td>\n",
              "      <td>5.714286</td>\n",
              "      <td>19.243656</td>\n",
              "      <td>NaN</td>\n",
              "      <td>NaN</td>\n",
              "      <td>NaN</td>\n",
              "    </tr>\n",
              "    <tr>\n",
              "      <th>5</th>\n",
              "      <td>Epoxy</td>\n",
              "      <td>Glass fiber</td>\n",
              "      <td>0.6</td>\n",
              "      <td>75.0</td>\n",
              "      <td>60.0</td>\n",
              "      <td>100.0</td>\n",
              "      <td>0.000452</td>\n",
              "      <td>45.238095</td>\n",
              "      <td>23.842970</td>\n",
              "      <td>NaN</td>\n",
              "      <td>NaN</td>\n",
              "      <td>0.472945</td>\n",
              "    </tr>\n",
              "    <tr>\n",
              "      <th>6</th>\n",
              "      <td>Epoxy</td>\n",
              "      <td>Glass fiber</td>\n",
              "      <td>0.6</td>\n",
              "      <td>75.0</td>\n",
              "      <td>60.0</td>\n",
              "      <td>100.0</td>\n",
              "      <td>0.000429</td>\n",
              "      <td>42.857143</td>\n",
              "      <td>23.842970</td>\n",
              "      <td>NaN</td>\n",
              "      <td>NaN</td>\n",
              "      <td>0.443664</td>\n",
              "    </tr>\n",
              "    <tr>\n",
              "      <th>7</th>\n",
              "      <td>NaN</td>\n",
              "      <td>NaN</td>\n",
              "      <td>NaN</td>\n",
              "      <td>NaN</td>\n",
              "      <td>NaN</td>\n",
              "      <td>NaN</td>\n",
              "      <td>NaN</td>\n",
              "      <td>NaN</td>\n",
              "      <td>NaN</td>\n",
              "      <td>NaN</td>\n",
              "      <td>average</td>\n",
              "      <td>0.367363</td>\n",
              "    </tr>\n",
              "    <tr>\n",
              "      <th>8</th>\n",
              "      <td>NaN</td>\n",
              "      <td>NaN</td>\n",
              "      <td>NaN</td>\n",
              "      <td>NaN</td>\n",
              "      <td>NaN</td>\n",
              "      <td>NaN</td>\n",
              "      <td>NaN</td>\n",
              "      <td>NaN</td>\n",
              "      <td>NaN</td>\n",
              "      <td>NaN</td>\n",
              "      <td>NaN</td>\n",
              "      <td>NaN</td>\n",
              "    </tr>\n",
              "    <tr>\n",
              "      <th>9</th>\n",
              "      <td>NaN</td>\n",
              "      <td>NaN</td>\n",
              "      <td>NaN</td>\n",
              "      <td>NaN</td>\n",
              "      <td>NaN</td>\n",
              "      <td>NaN</td>\n",
              "      <td>NaN</td>\n",
              "      <td>NaN</td>\n",
              "      <td>NaN</td>\n",
              "      <td>NaN</td>\n",
              "      <td>NaN</td>\n",
              "      <td>NaN</td>\n",
              "    </tr>\n",
              "    <tr>\n",
              "      <th>10</th>\n",
              "      <td>NaN</td>\n",
              "      <td>NaN</td>\n",
              "      <td>NaN</td>\n",
              "      <td>NaN</td>\n",
              "      <td>NaN</td>\n",
              "      <td>NaN</td>\n",
              "      <td>NaN</td>\n",
              "      <td>NaN</td>\n",
              "      <td>NaN</td>\n",
              "      <td>NaN</td>\n",
              "      <td>NaN</td>\n",
              "      <td>NaN</td>\n",
              "    </tr>\n",
              "  </tbody>\n",
              "</table>\n",
              "</div>"
            ],
            "text/plain": [
              "   matrix        fiber  volume fraction  ...  Unnamed: 9  Unnamed: 10     error\n",
              "0   Epoxy  Glass fiber              0.6  ...         NaN          NaN  0.435351\n",
              "1   Epoxy  Glass fiber              0.6  ...         NaN          NaN  0.582748\n",
              "2   Epoxy  Glass fiber              0.6  ...         NaN          NaN  0.170997\n",
              "3   Epoxy  Glass fiber              0.6  ...         NaN          NaN  0.098471\n",
              "4   Epoxy  Glass fiber              0.6  ...         NaN          NaN       NaN\n",
              "5   Epoxy  Glass fiber              0.6  ...         NaN          NaN  0.472945\n",
              "6   Epoxy  Glass fiber              0.6  ...         NaN          NaN  0.443664\n",
              "7     NaN          NaN              NaN  ...         NaN      average  0.367363\n",
              "8     NaN          NaN              NaN  ...         NaN          NaN       NaN\n",
              "9     NaN          NaN              NaN  ...         NaN          NaN       NaN\n",
              "10    NaN          NaN              NaN  ...         NaN          NaN       NaN\n",
              "\n",
              "[11 rows x 12 columns]"
            ]
          },
          "metadata": {
            "tags": []
          },
          "execution_count": 68
        }
      ]
    },
    {
      "cell_type": "code",
      "metadata": {
        "id": "Q_6GO-S3BiWl",
        "colab_type": "code",
        "colab": {}
      },
      "source": [
        "Z=dataset_1.iloc[0:7, 2:6].values"
      ],
      "execution_count": 0,
      "outputs": []
    },
    {
      "cell_type": "code",
      "metadata": {
        "id": "yU21LfSJBtt2",
        "colab_type": "code",
        "outputId": "3d0ca182-f8fa-4e3e-cadc-02cd31848f3a",
        "colab": {
          "base_uri": "https://localhost:8080/",
          "height": 134
        }
      },
      "source": [
        "Z"
      ],
      "execution_count": 70,
      "outputs": [
        {
          "output_type": "execute_result",
          "data": {
            "text/plain": [
              "array([[  0.6,  75. ,  30. , 100. ],\n",
              "       [  0.6,  75. ,  60. , 100. ],\n",
              "       [  0.6,  75. ,  90. , 100. ],\n",
              "       [  0.6,  75. ,  60. ,  75. ],\n",
              "       [  0.6,  75. ,  60. ,  50. ],\n",
              "       [  0.6,  75. ,  60. , 100. ],\n",
              "       [  0.6,  75. ,  60. , 100. ]])"
            ]
          },
          "metadata": {
            "tags": []
          },
          "execution_count": 70
        }
      ]
    },
    {
      "cell_type": "code",
      "metadata": {
        "id": "i4OmsZ9nBvpO",
        "colab_type": "code",
        "colab": {}
      },
      "source": [
        "Z_new = sc.transform(Z)"
      ],
      "execution_count": 0,
      "outputs": []
    },
    {
      "cell_type": "code",
      "metadata": {
        "id": "VuwtnMhbCO8j",
        "colab_type": "code",
        "outputId": "7ac01772-c991-49cb-e9e3-eab632e58636",
        "colab": {
          "base_uri": "https://localhost:8080/",
          "height": 134
        }
      },
      "source": [
        "Z_new=model.predict(Z_new)\n",
        "Z_new"
      ],
      "execution_count": 72,
      "outputs": [
        {
          "output_type": "execute_result",
          "data": {
            "text/plain": [
              "array([[66.586655 ],\n",
              "       [70.89264  ],\n",
              "       [67.27121  ],\n",
              "       [39.25118  ],\n",
              "       [ 5.9800735],\n",
              "       [70.89264  ],\n",
              "       [70.89264  ]], dtype=float32)"
            ]
          },
          "metadata": {
            "tags": []
          },
          "execution_count": 72
        }
      ]
    },
    {
      "cell_type": "code",
      "metadata": {
        "colab_type": "code",
        "outputId": "5ce8d8d7-7634-48cc-f26d-b0d37a91e189",
        "id": "90NrSbV2xUh5",
        "colab": {
          "base_uri": "https://localhost:8080/",
          "height": 67
        }
      },
      "source": [
        "Y_old=dataset_1.iloc[:, 7].values\n",
        "Y_old"
      ],
      "execution_count": 73,
      "outputs": [
        {
          "output_type": "execute_result",
          "data": {
            "text/plain": [
              "array([35.71428571, 57.14285714, 35.71428571, 26.42857143,  5.71428571,\n",
              "       45.23809524, 42.85714286,         nan,         nan,         nan,\n",
              "               nan])"
            ]
          },
          "metadata": {
            "tags": []
          },
          "execution_count": 73
        }
      ]
    },
    {
      "cell_type": "code",
      "metadata": {
        "id": "-YcMwU0RCXf9",
        "colab_type": "code",
        "outputId": "022ab268-c870-42c2-e69f-22d50344857a",
        "colab": {
          "base_uri": "https://localhost:8080/",
          "height": 404
        }
      },
      "source": [
        "plt.figure(figsize=(8, 6))\n",
        "plt.plot(Z_new, color='black',linewidth = 2, marker='o', markerfacecolor='blue', markersize=10, label='predicted value')\n",
        "plt.plot(Y_old, color='red',linewidth = 2, marker='o', markerfacecolor='green', markersize=10, label='experimental value')\n",
        "plt.xlabel('experimental and predicted value')\n",
        "plt.ylabel('erosion rate')\n",
        "plt.title('experimental VS ANN predicted value')\n",
        "plt.legend()\n",
        "plt.show()"
      ],
      "execution_count": 74,
      "outputs": [
        {
          "output_type": "display_data",
          "data": {
            "image/png": "[encoded data removed]",
            "text/plain": [
              "<Figure size 576x432 with 1 Axes>"
            ]
          },
          "metadata": {
            "tags": []
          }
        }
      ]
    },
    {
      "cell_type": "code",
      "metadata": {
        "id": "3IhHirjAmg8p",
        "colab_type": "code",
        "colab": {}
      },
      "source": [
        ""
      ],
      "execution_count": 0,
      "outputs": []
    }
  ]
}